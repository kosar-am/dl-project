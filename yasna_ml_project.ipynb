{
  "nbformat": 4,
  "nbformat_minor": 0,
  "metadata": {
    "colab": {
      "provenance": [],
      "authorship_tag": "ABX9TyOSg+SA9kYnM+hvetqKrJBC",
      "include_colab_link": true
    },
    "kernelspec": {
      "name": "python3",
      "display_name": "Python 3"
    },
    "language_info": {
      "name": "python"
    }
  },
  "cells": [
    {
      "cell_type": "markdown",
      "metadata": {
        "id": "view-in-github",
        "colab_type": "text"
      },
      "source": [
        "<a href=\"https://colab.research.google.com/github/kosar-am/dl-project/blob/main/yasna_ml_project.ipynb\" target=\"_parent\"><img src=\"https://colab.research.google.com/assets/colab-badge.svg\" alt=\"Open In Colab\"/></a>"
      ]
    },
    {
      "cell_type": "code",
      "execution_count": null,
      "metadata": {
        "id": "nvpoDI21i31k"
      },
      "outputs": [],
      "source": []
    },
    {
      "cell_type": "markdown",
      "source": [
        "hello dl"
      ],
      "metadata": {
        "id": "B5GwSgeli8Mg"
      }
    },
    {
      "cell_type": "markdown",
      "source": [
        "new hello"
      ],
      "metadata": {
        "id": "-Zyhbpjk2txb"
      }
    },
    {
      "cell_type": "code",
      "source": [],
      "metadata": {
        "id": "e4xWZGPn2vjV"
      },
      "execution_count": null,
      "outputs": []
    },
    {
      "cell_type": "markdown",
      "source": [
        "yasna yasna"
      ],
      "metadata": {
        "id": "UuGZRp9-3C6q"
      }
    },
    {
      "cell_type": "code",
      "source": [],
      "metadata": {
        "id": "40V3sE_33EOr"
      },
      "execution_count": null,
      "outputs": []
    }
  ]
}